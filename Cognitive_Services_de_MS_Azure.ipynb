{
  "nbformat": 4,
  "nbformat_minor": 0,
  "metadata": {
    "colab": {
      "provenance": [],
      "authorship_tag": "ABX9TyMgOHB+uMzaohz0qqC9VE3L",
      "include_colab_link": true
    },
    "kernelspec": {
      "name": "python3",
      "display_name": "Python 3"
    },
    "language_info": {
      "name": "python"
    }
  },
  "cells": [
    {
      "cell_type": "markdown",
      "metadata": {
        "id": "view-in-github",
        "colab_type": "text"
      },
      "source": [
        "<a href=\"https://colab.research.google.com/github/RigoVegaE/Computo-Nube/blob/main/Cognitive_Services_de_MS_Azure.ipynb\" target=\"_parent\"><img src=\"https://colab.research.google.com/assets/colab-badge.svg\" alt=\"Open In Colab\"/></a>"
      ]
    },
    {
      "cell_type": "code",
      "source": [
        "from google.colab import drive\n",
        "drive.mount('/content/drive')"
      ],
      "metadata": {
        "colab": {
          "base_uri": "https://localhost:8080/"
        },
        "id": "YVZlpdWPpMpb",
        "outputId": "7c9eb8fb-9a94-4c26-e1ca-de45caf5bd24"
      },
      "execution_count": null,
      "outputs": [
        {
          "output_type": "stream",
          "name": "stdout",
          "text": [
            "Mounted at /content/drive\n"
          ]
        }
      ]
    },
    {
      "cell_type": "code",
      "execution_count": null,
      "metadata": {
        "id": "5-YBR3MjeGQx",
        "colab": {
          "base_uri": "https://localhost:8080/"
        },
        "outputId": "50e023d8-2dfc-44c4-c474-30bfb6a0f984"
      },
      "outputs": [
        {
          "output_type": "stream",
          "name": "stdout",
          "text": [
            "[{\"faceRectangle\": {\"top\": 159, \"left\": 118, \"width\": 94, \"height\": 94}}, {\"faceRectangle\": {\"top\": 111, \"left\": 492, \"width\": 90, \"height\": 90}}, {\"faceRectangle\": {\"top\": 153, \"left\": 18, \"width\": 84, \"height\": 84}}, {\"faceRectangle\": {\"top\": 166, \"left\": 386, \"width\": 81, \"height\": 81}}, {\"faceRectangle\": {\"top\": 158, \"left\": 235, \"width\": 76, \"height\": 76}}, {\"faceRectangle\": {\"top\": 163, \"left\": 323, \"width\": 68, \"height\": 68}}]\n"
          ]
        }
      ],
      "source": [
        "import json, os, requests\n",
        "\n",
        "#\n",
        "subscription_key = \"f5d4b3ccf6fc43eabfb15bb14c1188e5\"\n",
        "\n",
        "#\n",
        "face_api_url = \"https://facerecognitionmna23rigo.cognitiveservices.azure.com/\" + '/face/v1.0/detect'\n",
        "\n",
        "#\n",
        "image_url = \"https://raw.githubusercontent.com/ecendejas/imgMNA/main/faces.jpg\"\n",
        "\n",
        "#\n",
        "headers = {'Ocp-Apim-Subscription-Key': subscription_key}\n",
        "\n",
        "# \n",
        "params = {\n",
        "    'returnFaceId': 'false', \n",
        "    'returnFaceLandmarks': 'false', \n",
        "}\n",
        "\n",
        "#'returnFaceAttributes':'age, gender beadPose,smile, facialBair, glasses, emotion',\n",
        "\n",
        "#\n",
        "response = requests.post(face_api_url, params=params, headers=headers, json={\"url\":image_url})\n",
        "print(json.dumps(response.json()))"
      ]
    },
    {
      "cell_type": "code",
      "source": [
        "image_url2 = \"https://raw.githubusercontent.com/RigoVegaE/Computo-Nube/main/f1.jpeg\"\n",
        "image_url3 = \"https://raw.githubusercontent.com/RigoVegaE/Computo-Nube/main/f4.jpg\"\n",
        "\n",
        "images = [image_url2, image_url3]\n",
        "\n",
        "for image_url in images:\n",
        "# for image_url4 in images:\n",
        "  response = requests.post(face_api_url, params=params, headers=headers, json={\"url\":image_url})\n",
        "  print(\"*************************************************************\")\n",
        "  print(json.dumps(response.json()))\n",
        "  print(\"\\n\")"
      ],
      "metadata": {
        "colab": {
          "base_uri": "https://localhost:8080/"
        },
        "id": "LmujWzkkpeo4",
        "outputId": "60dd6025-a067-4a2c-cefe-ddca84253668"
      },
      "execution_count": null,
      "outputs": [
        {
          "output_type": "stream",
          "name": "stdout",
          "text": [
            "*************************************************************\n",
            "[{\"faceRectangle\": {\"top\": 243, \"left\": 343, \"width\": 151, \"height\": 151}}, {\"faceRectangle\": {\"top\": 294, \"left\": 245, \"width\": 136, \"height\": 136}}, {\"faceRectangle\": {\"top\": 142, \"left\": 467, \"width\": 123, \"height\": 123}}, {\"faceRectangle\": {\"top\": 381, \"left\": 119, \"width\": 98, \"height\": 98}}]\n",
            "\n",
            "\n",
            "*************************************************************\n",
            "[{\"faceRectangle\": {\"top\": 141, \"left\": 593, \"width\": 161, \"height\": 161}}, {\"faceRectangle\": {\"top\": 400, \"left\": 514, \"width\": 152, \"height\": 152}}, {\"faceRectangle\": {\"top\": 374, \"left\": 678, \"width\": 144, \"height\": 144}}, {\"faceRectangle\": {\"top\": 461, \"left\": 381, \"width\": 141, \"height\": 141}}]\n",
            "\n",
            "\n"
          ]
        }
      ]
    }
  ]
}
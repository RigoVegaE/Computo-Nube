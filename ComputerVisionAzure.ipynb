{
  "nbformat": 4,
  "nbformat_minor": 0,
  "metadata": {
    "colab": {
      "provenance": [],
      "authorship_tag": "ABX9TyP2oGAHahYdLOSetjpPFxCT",
      "include_colab_link": true
    },
    "kernelspec": {
      "name": "python3",
      "display_name": "Python 3"
    },
    "language_info": {
      "name": "python"
    }
  },
  "cells": [
    {
      "cell_type": "markdown",
      "metadata": {
        "id": "view-in-github",
        "colab_type": "text"
      },
      "source": [
        "<a href=\"https://colab.research.google.com/github/RigoVegaE/Computo-Nube/blob/main/ComputerVisionAzure.ipynb\" target=\"_parent\"><img src=\"https://colab.research.google.com/assets/colab-badge.svg\" alt=\"Open In Colab\"/></a>"
      ]
    },
    {
      "cell_type": "code",
      "source": [
        "! pip install azure-cognitiveservices-vision-computervision"
      ],
      "metadata": {
        "colab": {
          "base_uri": "https://localhost:8080/"
        },
        "id": "4YmBar-qKFaQ",
        "outputId": "4f5bb6c8-86cd-408a-942e-bbeda380c13d"
      },
      "execution_count": 1,
      "outputs": [
        {
          "output_type": "stream",
          "name": "stdout",
          "text": [
            "Looking in indexes: https://pypi.org/simple, https://us-python.pkg.dev/colab-wheels/public/simple/\n",
            "Collecting azure-cognitiveservices-vision-computervision\n",
            "  Downloading azure_cognitiveservices_vision_computervision-0.9.0-py2.py3-none-any.whl (39 kB)\n",
            "Collecting azure-common~=1.1\n",
            "  Downloading azure_common-1.1.28-py2.py3-none-any.whl (14 kB)\n",
            "Collecting msrest>=0.5.0\n",
            "  Downloading msrest-0.7.1-py3-none-any.whl (85 kB)\n",
            "\u001b[2K     \u001b[90m━━━━━━━━━━━━━━━━━━━━━━━━━━━━━━━━━━━━━━━━\u001b[0m \u001b[32m85.4/85.4 KB\u001b[0m \u001b[31m4.3 MB/s\u001b[0m eta \u001b[36m0:00:00\u001b[0m\n",
            "\u001b[?25hCollecting isodate>=0.6.0\n",
            "  Downloading isodate-0.6.1-py2.py3-none-any.whl (41 kB)\n",
            "\u001b[2K     \u001b[90m━━━━━━━━━━━━━━━━━━━━━━━━━━━━━━━━━━━━━━━━\u001b[0m \u001b[32m41.7/41.7 KB\u001b[0m \u001b[31m3.1 MB/s\u001b[0m eta \u001b[36m0:00:00\u001b[0m\n",
            "\u001b[?25hRequirement already satisfied: requests-oauthlib>=0.5.0 in /usr/local/lib/python3.8/dist-packages (from msrest>=0.5.0->azure-cognitiveservices-vision-computervision) (1.3.1)\n",
            "Collecting azure-core>=1.24.0\n",
            "  Downloading azure_core-1.26.3-py3-none-any.whl (174 kB)\n",
            "\u001b[2K     \u001b[90m━━━━━━━━━━━━━━━━━━━━━━━━━━━━━━━━━━━━━━━\u001b[0m \u001b[32m174.5/174.5 KB\u001b[0m \u001b[31m6.9 MB/s\u001b[0m eta \u001b[36m0:00:00\u001b[0m\n",
            "\u001b[?25hRequirement already satisfied: requests~=2.16 in /usr/local/lib/python3.8/dist-packages (from msrest>=0.5.0->azure-cognitiveservices-vision-computervision) (2.25.1)\n",
            "Requirement already satisfied: certifi>=2017.4.17 in /usr/local/lib/python3.8/dist-packages (from msrest>=0.5.0->azure-cognitiveservices-vision-computervision) (2022.12.7)\n",
            "Requirement already satisfied: typing-extensions>=4.0.1 in /usr/local/lib/python3.8/dist-packages (from azure-core>=1.24.0->msrest>=0.5.0->azure-cognitiveservices-vision-computervision) (4.5.0)\n",
            "Requirement already satisfied: six>=1.11.0 in /usr/local/lib/python3.8/dist-packages (from azure-core>=1.24.0->msrest>=0.5.0->azure-cognitiveservices-vision-computervision) (1.15.0)\n",
            "Requirement already satisfied: idna<3,>=2.5 in /usr/local/lib/python3.8/dist-packages (from requests~=2.16->msrest>=0.5.0->azure-cognitiveservices-vision-computervision) (2.10)\n",
            "Requirement already satisfied: chardet<5,>=3.0.2 in /usr/local/lib/python3.8/dist-packages (from requests~=2.16->msrest>=0.5.0->azure-cognitiveservices-vision-computervision) (4.0.0)\n",
            "Requirement already satisfied: urllib3<1.27,>=1.21.1 in /usr/local/lib/python3.8/dist-packages (from requests~=2.16->msrest>=0.5.0->azure-cognitiveservices-vision-computervision) (1.26.14)\n",
            "Requirement already satisfied: oauthlib>=3.0.0 in /usr/local/lib/python3.8/dist-packages (from requests-oauthlib>=0.5.0->msrest>=0.5.0->azure-cognitiveservices-vision-computervision) (3.2.2)\n",
            "Installing collected packages: azure-common, isodate, azure-core, msrest, azure-cognitiveservices-vision-computervision\n",
            "Successfully installed azure-cognitiveservices-vision-computervision-0.9.0 azure-common-1.1.28 azure-core-1.26.3 isodate-0.6.1 msrest-0.7.1\n"
          ]
        }
      ]
    },
    {
      "cell_type": "code",
      "source": [
        "! pip install --upgrade azure-cognitiveservices-vision-computervision"
      ],
      "metadata": {
        "colab": {
          "base_uri": "https://localhost:8080/"
        },
        "id": "1U4PZeoBeDt0",
        "outputId": "aa98e457-75d7-418d-b7e7-b4a797fd791b"
      },
      "execution_count": 2,
      "outputs": [
        {
          "output_type": "stream",
          "name": "stdout",
          "text": [
            "Looking in indexes: https://pypi.org/simple, https://us-python.pkg.dev/colab-wheels/public/simple/\n",
            "Requirement already satisfied: azure-cognitiveservices-vision-computervision in /usr/local/lib/python3.8/dist-packages (0.9.0)\n",
            "Requirement already satisfied: azure-common~=1.1 in /usr/local/lib/python3.8/dist-packages (from azure-cognitiveservices-vision-computervision) (1.1.28)\n",
            "Requirement already satisfied: msrest>=0.5.0 in /usr/local/lib/python3.8/dist-packages (from azure-cognitiveservices-vision-computervision) (0.7.1)\n",
            "Requirement already satisfied: requests-oauthlib>=0.5.0 in /usr/local/lib/python3.8/dist-packages (from msrest>=0.5.0->azure-cognitiveservices-vision-computervision) (1.3.1)\n",
            "Requirement already satisfied: isodate>=0.6.0 in /usr/local/lib/python3.8/dist-packages (from msrest>=0.5.0->azure-cognitiveservices-vision-computervision) (0.6.1)\n",
            "Requirement already satisfied: azure-core>=1.24.0 in /usr/local/lib/python3.8/dist-packages (from msrest>=0.5.0->azure-cognitiveservices-vision-computervision) (1.26.3)\n",
            "Requirement already satisfied: certifi>=2017.4.17 in /usr/local/lib/python3.8/dist-packages (from msrest>=0.5.0->azure-cognitiveservices-vision-computervision) (2022.12.7)\n",
            "Requirement already satisfied: requests~=2.16 in /usr/local/lib/python3.8/dist-packages (from msrest>=0.5.0->azure-cognitiveservices-vision-computervision) (2.25.1)\n",
            "Requirement already satisfied: typing-extensions>=4.0.1 in /usr/local/lib/python3.8/dist-packages (from azure-core>=1.24.0->msrest>=0.5.0->azure-cognitiveservices-vision-computervision) (4.5.0)\n",
            "Requirement already satisfied: six>=1.11.0 in /usr/local/lib/python3.8/dist-packages (from azure-core>=1.24.0->msrest>=0.5.0->azure-cognitiveservices-vision-computervision) (1.15.0)\n",
            "Requirement already satisfied: chardet<5,>=3.0.2 in /usr/local/lib/python3.8/dist-packages (from requests~=2.16->msrest>=0.5.0->azure-cognitiveservices-vision-computervision) (4.0.0)\n",
            "Requirement already satisfied: urllib3<1.27,>=1.21.1 in /usr/local/lib/python3.8/dist-packages (from requests~=2.16->msrest>=0.5.0->azure-cognitiveservices-vision-computervision) (1.26.14)\n",
            "Requirement already satisfied: idna<3,>=2.5 in /usr/local/lib/python3.8/dist-packages (from requests~=2.16->msrest>=0.5.0->azure-cognitiveservices-vision-computervision) (2.10)\n",
            "Requirement already satisfied: oauthlib>=3.0.0 in /usr/local/lib/python3.8/dist-packages (from requests-oauthlib>=0.5.0->msrest>=0.5.0->azure-cognitiveservices-vision-computervision) (3.2.2)\n"
          ]
        }
      ]
    },
    {
      "cell_type": "code",
      "source": [
        "! pip install pillow"
      ],
      "metadata": {
        "colab": {
          "base_uri": "https://localhost:8080/"
        },
        "id": "O1klBQKBeG5i",
        "outputId": "2cfa3268-f820-4d41-d980-0c1e08dde513"
      },
      "execution_count": null,
      "outputs": [
        {
          "output_type": "stream",
          "name": "stdout",
          "text": [
            "Looking in indexes: https://pypi.org/simple, https://us-python.pkg.dev/colab-wheels/public/simple/\n",
            "Requirement already satisfied: pillow in /usr/local/lib/python3.8/dist-packages (8.4.0)\n"
          ]
        }
      ]
    },
    {
      "cell_type": "code",
      "execution_count": 3,
      "metadata": {
        "id": "fQgydWCBJaD0"
      },
      "outputs": [],
      "source": [
        "import os\n",
        "import io\n",
        "import json\n",
        "from msrest.authentication import CognitiveServicesCredentials\n",
        "from azure.cognitiveservices.vision.computervision import ComputerVisionClient\n",
        "from azure.cognitiveservices.vision.computervision.models import OperationStatusCodes, VisualFeatureTypes\n",
        "import requests # pip install requests\n",
        "from PIL import Image, ImageDraw, ImageFont\n",
        "import sys\n",
        "import time\n"
      ]
    },
    {
      "cell_type": "code",
      "source": [
        "#Aqui obtenemos las llaves y credenciales para conectarnos con Azure\n",
        "# credential = json.load(open('credential.json'))\n",
        "API_KEY = \"22d351b6518d4bbbbe3b8b2f4e0da037\"\n",
        "ENDPOINT = \"https://computervisionazurerigo.cognitiveservices.azure.com/\""
      ],
      "metadata": {
        "id": "CVq7QD0nMhYW"
      },
      "execution_count": 17,
      "outputs": []
    },
    {
      "cell_type": "code",
      "source": [
        "#Creamos nuestro cliente en base a la clase de computer vision\n",
        "subscription_key = \"22d351b6518d4bbbbe3b8b2f4e0da037\"\n",
        "endpoint = \"https://computervisionazurerigo.cognitiveservices.azure.com/\" #+ \"/vision/v3.2/read\"\n",
        "headers = {'Ocp-Apim-Subscription-Key': subscription_key}\n",
        "\n",
        "cv_client = ComputerVisionClient(endpoint, CognitiveServicesCredentials(subscription_key))"
      ],
      "metadata": {
        "id": "zOBRu8Z6PCJ_"
      },
      "execution_count": 58,
      "outputs": []
    },
    {
      "cell_type": "code",
      "source": [
        "#Traemos la imagen de Github\n",
        "image_url = \"https://raw.githubusercontent.com/RigoVegaE/Computo-Nube/main/writting.jpg\"\n",
        "#leemos la imagen con Azure\n",
        "response = cv_client.read(url=image_url, raw=True)\n",
        "#Obtener una llave especifica asignada a la imagen\n",
        "operationsLocation = response.headers['Operation-Location']\n",
        "operation_id = operationsLocation.split('/')[-1]\n",
        "\n",
        "#Aqui obtenemos el resultado del analisis y lo guardamos\n",
        "result = cv_client.get_read_result(operation_id)\n",
        "while True:\n",
        "    read_result = cv_client.get_read_result(operation_id)\n",
        "    if read_result.status not in ['notStarted', 'running']:\n",
        "        break\n",
        "    time.sleep(1)\n",
        "if read_result.status == OperationStatusCodes.succeeded:\n",
        "    for text_result in read_result.analyze_result.read_results:\n",
        "        for line in text_result.lines:\n",
        "            print(line.text)\n",
        "            print(line.bounding_box)\n",
        "print()"
      ],
      "metadata": {
        "colab": {
          "base_uri": "https://localhost:8080/"
        },
        "id": "EGQyA6DPQZU3",
        "outputId": "71147a7c-7756-4353-f9d5-3c54cbf9bfc8"
      },
      "execution_count": 65,
      "outputs": [
        {
          "output_type": "stream",
          "name": "stdout",
          "text": [
            "HELLO REDDIT !\n",
            "[170.0, 274.0, 612.0, 278.0, 611.0, 344.0, 169.0, 341.0]\n",
            "I GET COMPLIMENTS ON MY HANDWRITING FROM TIME TO\n",
            "[290.0, 374.0, 1819.0, 374.0, 1819.0, 429.0, 290.0, 429.0]\n",
            "TIME SO I FINALLY DECIDED TO SHARE. I USUALLY WRITE\n",
            "[209.0, 469.0, 1753.0, 469.0, 1753.0, 518.0, 209.0, 521.0]\n",
            "IN ALL CAPS AT WORK BUT I DO HAVE DIFFERENT SCRIPTS.\n",
            "[230.0, 561.0, 1870.0, 554.0, 1871.0, 602.0, 230.0, 608.0]\n",
            "THE QUICK BROWN FOX JUMPS OVER THE LAZY DOG.\n",
            "[199.0, 738.0, 1655.0, 730.0, 1655.0, 777.0, 199.0, 786.0]\n",
            "the quick brown fox jumps over the lazy dog.\n",
            "[213.0, 819.0, 1525.0, 814.0, 1525.0, 874.0, 213.0, 879.0]\n",
            "The quick brown fox jumps over the lazy dog.\n",
            "[208.0, 902.0, 1834.0, 895.0, 1835.0, 969.0, 208.0, 976.0]\n",
            "012345 6 7 8 9\n",
            "[224.0, 994.0, 895.0, 993.0, 896.0, 1047.0, 224.0, 1056.0]\n",
            "U/ STORMYANGEL 236\n",
            "[1037.0, 1165.0, 1648.0, 1159.0, 1649.0, 1216.0, 1037.0, 1226.0]\n",
            "\n"
          ]
        }
      ]
    }
  ]
}